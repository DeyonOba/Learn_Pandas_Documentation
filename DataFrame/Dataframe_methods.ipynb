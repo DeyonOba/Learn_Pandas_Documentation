{
 "cells": [
  {
   "cell_type": "code",
   "execution_count": 17,
   "id": "04ac6b89",
   "metadata": {},
   "outputs": [],
   "source": [
    "import numpy as np\n",
    "import pandas as pd"
   ]
  },
  {
   "cell_type": "markdown",
   "id": "4efce693",
   "metadata": {},
   "source": [
    "## pandas.DataFrame(data=None, index=None, columns=None, dtype=None, copy=None)"
   ]
  },
  {
   "cell_type": "markdown",
   "id": "a4d823ed",
   "metadata": {},
   "source": [
    "#### DataFrame Parameters:\n",
    "+ **data**: ndarray (structured or homogeneous), Iterable, dict, or DataFrame\n",
    ">Dict can contain Series, arrays, constants, dataclass or list-like objects. If data is a dict, column order follows insertion-order. If a dict contains Series which have an index defined, it is aligned by its index.\n",
    "+ **index**: Index or array-like\n",
    ">Index to use for resulting frame. Will default to RangeIndex if no indexing information part of input data and no index provided.\n",
    "+ **columns**: Index or array-like\n",
    ">Column labels to use for resulting frame when data does not have them, defaulting to RangeIndex(0, 1, 2, …, n). If data contains column labels, will perform column selection instead.\n",
    "+ **dtyped**: type, default None\n",
    ">Data type to force. Only a single dtype is allowed. If None, infer.\n",
    "+ **copy**: bool or None, default None\n",
    ">Copy data from inputs. For dict data, the default of None behaves like `copy=True`. For DataFrame or 2d ndarray input, the default of None behaves like `copy=False`. If data is a dict containing one or more Series (possibly of different dtypes), `copy=False` will ensure that these inputs are not copied.\n"
   ]
  },
  {
   "cell_type": "code",
   "execution_count": 3,
   "id": "c3fd0334",
   "metadata": {},
   "outputs": [
    {
     "data": {
      "text/html": [
       "<div>\n",
       "<style scoped>\n",
       "    .dataframe tbody tr th:only-of-type {\n",
       "        vertical-align: middle;\n",
       "    }\n",
       "\n",
       "    .dataframe tbody tr th {\n",
       "        vertical-align: top;\n",
       "    }\n",
       "\n",
       "    .dataframe thead th {\n",
       "        text-align: right;\n",
       "    }\n",
       "</style>\n",
       "<table border=\"1\" class=\"dataframe\">\n",
       "  <thead>\n",
       "    <tr style=\"text-align: right;\">\n",
       "      <th></th>\n",
       "      <th>animal</th>\n",
       "      <th>weight</th>\n",
       "    </tr>\n",
       "  </thead>\n",
       "  <tbody>\n",
       "    <tr>\n",
       "      <th>0</th>\n",
       "      <td>tiger</td>\n",
       "      <td>90</td>\n",
       "    </tr>\n",
       "    <tr>\n",
       "      <th>1</th>\n",
       "      <td>dog</td>\n",
       "      <td>40</td>\n",
       "    </tr>\n",
       "    <tr>\n",
       "      <th>2</th>\n",
       "      <td>cat</td>\n",
       "      <td>29</td>\n",
       "    </tr>\n",
       "  </tbody>\n",
       "</table>\n",
       "</div>"
      ],
      "text/plain": [
       "  animal  weight\n",
       "0  tiger      90\n",
       "1    dog      40\n",
       "2    cat      29"
      ]
     },
     "execution_count": 3,
     "metadata": {},
     "output_type": "execute_result"
    }
   ],
   "source": [
    "# Create data frame with a defined dictionary\n",
    "pd.DataFrame(\n",
    "    data={\n",
    "        \"animal\": [\"tiger\", \"dog\", \"cat\"],\n",
    "        \"weight\": [90, 40, 29]\n",
    "    }\n",
    ")"
   ]
  },
  {
   "cell_type": "code",
   "execution_count": 4,
   "id": "3883dead",
   "metadata": {},
   "outputs": [
    {
     "data": {
      "text/html": [
       "<div>\n",
       "<style scoped>\n",
       "    .dataframe tbody tr th:only-of-type {\n",
       "        vertical-align: middle;\n",
       "    }\n",
       "\n",
       "    .dataframe tbody tr th {\n",
       "        vertical-align: top;\n",
       "    }\n",
       "\n",
       "    .dataframe thead th {\n",
       "        text-align: right;\n",
       "    }\n",
       "</style>\n",
       "<table border=\"1\" class=\"dataframe\">\n",
       "  <thead>\n",
       "    <tr style=\"text-align: right;\">\n",
       "      <th></th>\n",
       "      <th>animal</th>\n",
       "      <th>weight</th>\n",
       "    </tr>\n",
       "  </thead>\n",
       "  <tbody>\n",
       "    <tr>\n",
       "      <th>0</th>\n",
       "      <td>tiger</td>\n",
       "      <td>20</td>\n",
       "    </tr>\n",
       "    <tr>\n",
       "      <th>1</th>\n",
       "      <td>dog</td>\n",
       "      <td>40</td>\n",
       "    </tr>\n",
       "    <tr>\n",
       "      <th>2</th>\n",
       "      <td>cat</td>\n",
       "      <td>60</td>\n",
       "    </tr>\n",
       "  </tbody>\n",
       "</table>\n",
       "</div>"
      ],
      "text/plain": [
       "  animal  weight\n",
       "0  tiger      20\n",
       "1    dog      40\n",
       "2    cat      60"
      ]
     },
     "execution_count": 4,
     "metadata": {},
     "output_type": "execute_result"
    }
   ],
   "source": [
    "# Create data frame were an iterable is use for the weight column\n",
    "pd.DataFrame(\n",
    "    data={\n",
    "        \"animal\": [\"tiger\", \"dog\", \"cat\"],\n",
    "        \"weight\": range(20, 61, 20)\n",
    "    }\n",
    ")"
   ]
  },
  {
   "cell_type": "code",
   "execution_count": 5,
   "id": "9dac9398",
   "metadata": {},
   "outputs": [
    {
     "data": {
      "text/html": [
       "<div>\n",
       "<style scoped>\n",
       "    .dataframe tbody tr th:only-of-type {\n",
       "        vertical-align: middle;\n",
       "    }\n",
       "\n",
       "    .dataframe tbody tr th {\n",
       "        vertical-align: top;\n",
       "    }\n",
       "\n",
       "    .dataframe thead th {\n",
       "        text-align: right;\n",
       "    }\n",
       "</style>\n",
       "<table border=\"1\" class=\"dataframe\">\n",
       "  <thead>\n",
       "    <tr style=\"text-align: right;\">\n",
       "      <th></th>\n",
       "      <th>a</th>\n",
       "      <th>b</th>\n",
       "      <th>c</th>\n",
       "    </tr>\n",
       "  </thead>\n",
       "  <tbody>\n",
       "    <tr>\n",
       "      <th>0</th>\n",
       "      <td>1</td>\n",
       "      <td>2</td>\n",
       "      <td>3</td>\n",
       "    </tr>\n",
       "    <tr>\n",
       "      <th>1</th>\n",
       "      <td>4</td>\n",
       "      <td>5</td>\n",
       "      <td>6</td>\n",
       "    </tr>\n",
       "    <tr>\n",
       "      <th>2</th>\n",
       "      <td>7</td>\n",
       "      <td>8</td>\n",
       "      <td>9</td>\n",
       "    </tr>\n",
       "  </tbody>\n",
       "</table>\n",
       "</div>"
      ],
      "text/plain": [
       "   a  b  c\n",
       "0  1  2  3\n",
       "1  4  5  6\n",
       "2  7  8  9"
      ]
     },
     "execution_count": 5,
     "metadata": {},
     "output_type": "execute_result"
    }
   ],
   "source": [
    "# Create a data frame from a `numpy` array\n",
    "df2 = pd.DataFrame(\n",
    "    np.array([[1, 2, 3], [4, 5, 6], [7, 8, 9]]), \n",
    "    columns=['a', 'b', 'c']\n",
    ")\n",
    "df2"
   ]
  },
  {
   "cell_type": "code",
   "execution_count": 6,
   "id": "5d587e7c",
   "metadata": {},
   "outputs": [
    {
     "data": {
      "text/html": [
       "<div>\n",
       "<style scoped>\n",
       "    .dataframe tbody tr th:only-of-type {\n",
       "        vertical-align: middle;\n",
       "    }\n",
       "\n",
       "    .dataframe tbody tr th {\n",
       "        vertical-align: top;\n",
       "    }\n",
       "\n",
       "    .dataframe thead th {\n",
       "        text-align: right;\n",
       "    }\n",
       "</style>\n",
       "<table border=\"1\" class=\"dataframe\">\n",
       "  <thead>\n",
       "    <tr style=\"text-align: right;\">\n",
       "      <th></th>\n",
       "      <th>animal</th>\n",
       "      <th>weight</th>\n",
       "    </tr>\n",
       "  </thead>\n",
       "  <tbody>\n",
       "    <tr>\n",
       "      <th>wild</th>\n",
       "      <td>tiger</td>\n",
       "      <td>90</td>\n",
       "    </tr>\n",
       "    <tr>\n",
       "      <th>domestic</th>\n",
       "      <td>dog</td>\n",
       "      <td>40</td>\n",
       "    </tr>\n",
       "  </tbody>\n",
       "</table>\n",
       "</div>"
      ],
      "text/plain": [
       "         animal  weight\n",
       "wild      tiger      90\n",
       "domestic    dog      40"
      ]
     },
     "execution_count": 6,
     "metadata": {},
     "output_type": "execute_result"
    }
   ],
   "source": [
    "# dictionary  which has a defined index\n",
    "pd.DataFrame(\n",
    "    data={\n",
    "        \"animal\": {\"wild\": \"tiger\", \"domestic\": \"dog\"},\n",
    "        \"weight\": {\"wild\": 90, \"domestic\": 40}\n",
    "    }\n",
    ")"
   ]
  },
  {
   "cell_type": "code",
   "execution_count": 7,
   "id": "361b552f",
   "metadata": {},
   "outputs": [
    {
     "data": {
      "text/html": [
       "<div>\n",
       "<style scoped>\n",
       "    .dataframe tbody tr th:only-of-type {\n",
       "        vertical-align: middle;\n",
       "    }\n",
       "\n",
       "    .dataframe tbody tr th {\n",
       "        vertical-align: top;\n",
       "    }\n",
       "\n",
       "    .dataframe thead th {\n",
       "        text-align: right;\n",
       "    }\n",
       "</style>\n",
       "<table border=\"1\" class=\"dataframe\">\n",
       "  <thead>\n",
       "    <tr style=\"text-align: right;\">\n",
       "      <th></th>\n",
       "      <th>animal</th>\n",
       "      <th>weight</th>\n",
       "    </tr>\n",
       "  </thead>\n",
       "  <tbody>\n",
       "    <tr>\n",
       "      <th>wild</th>\n",
       "      <td>tiger</td>\n",
       "      <td>90</td>\n",
       "    </tr>\n",
       "    <tr>\n",
       "      <th>domesticated</th>\n",
       "      <td>dog</td>\n",
       "      <td>40</td>\n",
       "    </tr>\n",
       "    <tr>\n",
       "      <th>domesticated</th>\n",
       "      <td>cat</td>\n",
       "      <td>29</td>\n",
       "    </tr>\n",
       "  </tbody>\n",
       "</table>\n",
       "</div>"
      ],
      "text/plain": [
       "             animal  weight\n",
       "wild          tiger      90\n",
       "domesticated    dog      40\n",
       "domesticated    cat      29"
      ]
     },
     "execution_count": 7,
     "metadata": {},
     "output_type": "execute_result"
    }
   ],
   "source": [
    "# Dataframe with index passed as a list\n",
    "pd.DataFrame(\n",
    "    data={\n",
    "        \"animal\": [\"tiger\", \"dog\", \"cat\"],\n",
    "        \"weight\": [90, 40, 29]\n",
    "    },\n",
    "    index=[\"wild\", \"domesticated\", \"domesticated\"]\n",
    ")"
   ]
  },
  {
   "cell_type": "code",
   "execution_count": 8,
   "id": "81a99f21",
   "metadata": {},
   "outputs": [
    {
     "data": {
      "text/html": [
       "<div>\n",
       "<style scoped>\n",
       "    .dataframe tbody tr th:only-of-type {\n",
       "        vertical-align: middle;\n",
       "    }\n",
       "\n",
       "    .dataframe tbody tr th {\n",
       "        vertical-align: top;\n",
       "    }\n",
       "\n",
       "    .dataframe thead th {\n",
       "        text-align: right;\n",
       "    }\n",
       "</style>\n",
       "<table border=\"1\" class=\"dataframe\">\n",
       "  <thead>\n",
       "    <tr style=\"text-align: right;\">\n",
       "      <th></th>\n",
       "      <th>animal</th>\n",
       "      <th>weight</th>\n",
       "    </tr>\n",
       "  </thead>\n",
       "  <tbody>\n",
       "    <tr>\n",
       "      <th>3</th>\n",
       "      <td>tiger</td>\n",
       "      <td>90</td>\n",
       "    </tr>\n",
       "    <tr>\n",
       "      <th>6</th>\n",
       "      <td>dog</td>\n",
       "      <td>40</td>\n",
       "    </tr>\n",
       "    <tr>\n",
       "      <th>9</th>\n",
       "      <td>cat</td>\n",
       "      <td>29</td>\n",
       "    </tr>\n",
       "  </tbody>\n",
       "</table>\n",
       "</div>"
      ],
      "text/plain": [
       "  animal  weight\n",
       "3  tiger      90\n",
       "6    dog      40\n",
       "9    cat      29"
      ]
     },
     "execution_count": 8,
     "metadata": {},
     "output_type": "execute_result"
    }
   ],
   "source": [
    "# Dataframe with index passed as a list\n",
    "pd.DataFrame(\n",
    "    data={\n",
    "        \"animal\": [\"tiger\", \"dog\", \"cat\"],\n",
    "        \"weight\": [90, 40, 29]\n",
    "    },\n",
    "    index=range(3, 10, 3)\n",
    ")\n",
    "# default uses a range index `range(start=0, stop=len(obj), step=1)`"
   ]
  },
  {
   "cell_type": "markdown",
   "id": "97037e0d",
   "metadata": {},
   "source": [
    "I personally complied some random text data, containing details about animal name and weight."
   ]
  },
  {
   "cell_type": "code",
   "execution_count": 9,
   "id": "53000ee7",
   "metadata": {},
   "outputs": [],
   "source": [
    "data = {}\n",
    "with open(\"test_data_1.txt\") as file:\n",
    "    data[\"Animal\"] = []\n",
    "    data[\"Weight\"] = []\n",
    "    for i in file:\n",
    "        line = i.strip().replace('\"', \"\").split(\",\")\n",
    "        data[\"Animal\"].append(line[0])\n",
    "        data[\"Weight\"].append(int(line[1]))"
   ]
  },
  {
   "cell_type": "code",
   "execution_count": 10,
   "id": "d7e035bc",
   "metadata": {},
   "outputs": [
    {
     "data": {
      "text/plain": [
       "{'Animal': ['tiger', 'dog', 'cat'], 'Weight': [90, 40, 29]}"
      ]
     },
     "execution_count": 10,
     "metadata": {},
     "output_type": "execute_result"
    }
   ],
   "source": [
    "data"
   ]
  },
  {
   "cell_type": "code",
   "execution_count": 11,
   "id": "21da2e72",
   "metadata": {},
   "outputs": [
    {
     "data": {
      "text/html": [
       "<div>\n",
       "<style scoped>\n",
       "    .dataframe tbody tr th:only-of-type {\n",
       "        vertical-align: middle;\n",
       "    }\n",
       "\n",
       "    .dataframe tbody tr th {\n",
       "        vertical-align: top;\n",
       "    }\n",
       "\n",
       "    .dataframe thead th {\n",
       "        text-align: right;\n",
       "    }\n",
       "</style>\n",
       "<table border=\"1\" class=\"dataframe\">\n",
       "  <thead>\n",
       "    <tr style=\"text-align: right;\">\n",
       "      <th></th>\n",
       "      <th>Animal</th>\n",
       "      <th>Weight</th>\n",
       "    </tr>\n",
       "  </thead>\n",
       "  <tbody>\n",
       "    <tr>\n",
       "      <th>0</th>\n",
       "      <td>tiger</td>\n",
       "      <td>90</td>\n",
       "    </tr>\n",
       "    <tr>\n",
       "      <th>1</th>\n",
       "      <td>dog</td>\n",
       "      <td>40</td>\n",
       "    </tr>\n",
       "    <tr>\n",
       "      <th>2</th>\n",
       "      <td>cat</td>\n",
       "      <td>29</td>\n",
       "    </tr>\n",
       "  </tbody>\n",
       "</table>\n",
       "</div>"
      ],
      "text/plain": [
       "  Animal  Weight\n",
       "0  tiger      90\n",
       "1    dog      40\n",
       "2    cat      29"
      ]
     },
     "execution_count": 11,
     "metadata": {},
     "output_type": "execute_result"
    }
   ],
   "source": [
    "# Create a data frame form a cleaned text file.\n",
    "df1 = pd.DataFrame(data=data)\n",
    "df1"
   ]
  },
  {
   "cell_type": "markdown",
   "id": "803254dd",
   "metadata": {},
   "source": [
    "## Data Frame Attributes"
   ]
  },
  {
   "cell_type": "markdown",
   "id": "101164a6",
   "metadata": {},
   "source": [
    "#### pd.DataFrame.ndim"
   ]
  },
  {
   "cell_type": "code",
   "execution_count": 12,
   "id": "c101929a",
   "metadata": {},
   "outputs": [
    {
     "data": {
      "text/plain": [
       "2"
      ]
     },
     "execution_count": 12,
     "metadata": {},
     "output_type": "execute_result"
    }
   ],
   "source": [
    "# return the number of dimension of the data frame\n",
    "df1.ndim"
   ]
  },
  {
   "cell_type": "markdown",
   "id": "7a5011b7",
   "metadata": {},
   "source": [
    "#### pd.DataFrame.dtypes"
   ]
  },
  {
   "cell_type": "code",
   "execution_count": 13,
   "id": "daafe035",
   "metadata": {},
   "outputs": [
    {
     "data": {
      "text/plain": [
       "Animal    object\n",
       "Weight     int64\n",
       "dtype: object"
      ]
     },
     "execution_count": 13,
     "metadata": {},
     "output_type": "execute_result"
    }
   ],
   "source": [
    "# return the data type of each column\n",
    "df1.dtypes"
   ]
  },
  {
   "cell_type": "markdown",
   "id": "b9d06fa2",
   "metadata": {},
   "source": [
    "#### pd.DataFrame.at"
   ]
  },
  {
   "cell_type": "code",
   "execution_count": 15,
   "id": "f10584be",
   "metadata": {},
   "outputs": [
    {
     "data": {
      "text/plain": [
       "'dog'"
      ]
     },
     "execution_count": 15,
     "metadata": {},
     "output_type": "execute_result"
    }
   ],
   "source": [
    "# Get value at specified row/column pair\n",
    "df1.at[1, \"Animal\"]"
   ]
  },
  {
   "cell_type": "code",
   "execution_count": 19,
   "id": "bfc89b6c",
   "metadata": {},
   "outputs": [],
   "source": [
    "# Set value at specified row/column pair\n",
    "df1.at[1, \"Weight\"] = 50\n",
    "df1"
   ]
  },
  {
   "cell_type": "code",
   "execution_count": 14,
   "id": "e5c07d6d",
   "metadata": {},
   "outputs": [
    {
     "data": {
      "text/plain": [
       "array([['tiger', 90],\n",
       "       ['dog', 40],\n",
       "       ['cat', 29]], dtype=object)"
      ]
     },
     "execution_count": 14,
     "metadata": {},
     "output_type": "execute_result"
    }
   ],
   "source": [
    "df1.values"
   ]
  },
  {
   "cell_type": "markdown",
   "id": "09210e65",
   "metadata": {},
   "source": [
    "#### pd.DataFrame.axes"
   ]
  },
  {
   "cell_type": "code",
   "execution_count": 23,
   "id": "3e346fa8",
   "metadata": {},
   "outputs": [
    {
     "data": {
      "text/plain": [
       "[RangeIndex(start=0, stop=3, step=1),\n",
       " Index(['Animal', 'Weight'], dtype='object')]"
      ]
     },
     "execution_count": 23,
     "metadata": {},
     "output_type": "execute_result"
    }
   ],
   "source": [
    "# return a list representing the axes of the dataframe \n",
    "# >>>>>[ row axes label,  column axes label]\n",
    "df1.axes"
   ]
  },
  {
   "cell_type": "markdown",
   "id": "bd685a83",
   "metadata": {},
   "source": [
    "#### pd.DataFrame.columns"
   ]
  },
  {
   "cell_type": "code",
   "execution_count": 24,
   "id": "ff8e8daa",
   "metadata": {},
   "outputs": [
    {
     "data": {
      "text/plain": [
       "Index(['Animal', 'Weight'], dtype='object')"
      ]
     },
     "execution_count": 24,
     "metadata": {},
     "output_type": "execute_result"
    }
   ],
   "source": [
    "# column label of the dataframe\n",
    "df1.columns"
   ]
  },
  {
   "cell_type": "markdown",
   "id": "bc4cd2e1",
   "metadata": {},
   "source": [
    "#### pd.DataFrame.empty"
   ]
  },
  {
   "cell_type": "code",
   "execution_count": 25,
   "id": "6fa5d19f",
   "metadata": {},
   "outputs": [
    {
     "data": {
      "text/plain": [
       "False"
      ]
     },
     "execution_count": 25,
     "metadata": {},
     "output_type": "execute_result"
    }
   ],
   "source": [
    "#\n",
    "df1.empty"
   ]
  },
  {
   "cell_type": "code",
   "execution_count": null,
   "id": "17e26464",
   "metadata": {},
   "outputs": [],
   "source": []
  }
 ],
 "metadata": {
  "kernelspec": {
   "display_name": "Python 3",
   "language": "python",
   "name": "python3"
  },
  "language_info": {
   "codemirror_mode": {
    "name": "ipython",
    "version": 3
   },
   "file_extension": ".py",
   "mimetype": "text/x-python",
   "name": "python",
   "nbconvert_exporter": "python",
   "pygments_lexer": "ipython3",
   "version": "3.8.8"
  }
 },
 "nbformat": 4,
 "nbformat_minor": 5
}
